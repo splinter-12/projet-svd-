{
  "nbformat": 4,
  "nbformat_minor": 0,
  "metadata": {
    "colab": {
      "provenance": [],
      "gpuType": "T4",
      "mount_file_id": "1thyT9qCqohfvVOPRJFv5UaoE0UGsuXOc",
      "authorship_tag": "ABX9TyMPLqt7TZ1sy1BGCU01gXG2",
      "include_colab_link": true
    },
    "kernelspec": {
      "name": "python3",
      "display_name": "Python 3"
    },
    "language_info": {
      "name": "python"
    },
    "accelerator": "GPU"
  },
  "cells": [
    {
      "cell_type": "markdown",
      "metadata": {
        "id": "view-in-github",
        "colab_type": "text"
      },
      "source": [
        "<a href=\"https://colab.research.google.com/github/splinter-12/projet-svd-/blob/main/svd.ipynb\" target=\"_parent\"><img src=\"https://colab.research.google.com/assets/colab-badge.svg\" alt=\"Open In Colab\"/></a>"
      ]
    },
    {
      "cell_type": "code",
      "execution_count": null,
      "metadata": {
        "colab": {
          "base_uri": "https://localhost:8080/",
          "height": 308
        },
        "id": "uhKKwXSm-31Y",
        "outputId": "24ee4b32-cdee-46e1-d7f4-df17541b6f5a"
      },
      "outputs": [
        {
          "output_type": "display_data",
          "data": {
            "text/plain": [
              "<Figure size 640x480 with 2 Axes>"
            ],
            "image/png": "[encoded data removed]"
          },
          "metadata": {}
        }
      ],
      "source": [
        "import pickle\n",
        "import numpy as np\n",
        "import matplotlib.pyplot as plt\n",
        "# Définir le chemin vers les fichiers de données\n",
        "data_path = \"/content/drive/MyDrive/cifar-10-batches-py/\"\n",
        "# Définir une fonction pour charger les données à partir d'un fichier\n",
        "def load_data(file):\n",
        "    with open(data_path + file, 'rb') as fo:\n",
        "        data = pickle.load(fo, encoding='bytes')\n",
        "    return data\n",
        "# Charger les données d'entraînement\n",
        "train_data = []\n",
        "train_labels = []\n",
        "for i in range(1, 6):\n",
        "    data_batch = load_data(\"data_batch_\" + str(i))\n",
        "    train_data.append(data_batch[b'data'])\n",
        "    train_labels += data_batch[b'labels']\n",
        "train_data = np.concatenate(train_data, axis=0)\n",
        "train_data = train_data.reshape((50000, 3, 32, 32)).transpose(0, 2, 3, 1)\n",
        "# Charger les données de test\n",
        "test_data = load_data(\"test_batch\")[b'data']\n",
        "test_labels = load_data(\"test_batch\")[b'labels']\n",
        "test_data = test_data.reshape((10000, 3, 32, 32)).transpose(0, 2, 3, 1)\n",
        "# Aplatir les données d'entraînement\n",
        "train_data_flat = train_data.reshape((50000, -1))\n",
        "# Calculer la SVD tronquée des données d'entraînement\n",
        "k = 100\n",
        "from sklearn.decomposition import TruncatedSVD\n",
        "svd = TruncatedSVD(n_components=k)\n",
        "train_data_approx = svd.fit_transform(train_data_flat)\n",
        "# Récupérer les matrices U, S et V de la SVD tronquée\n",
        "U_k = svd.components_\n",
        "S_k = svd.singular_values_\n",
        "V_k = svd.components_.T\n",
        "# Calculer la matrice de rang k approximée des données d'entraînement\n",
        "train_data_approx = np.dot(train_data_approx, np.diag(S_k))\n",
        "train_data_approx = np.dot(train_data_approx, V_k.T)\n",
        "# Réorganiser les données d'entraînement approximées dans leur forme originale\n",
        "train_data_approx = train_data_approx.reshape((50000, 32, 32, 3)).transpose(0, 3, 1, 2)\n",
        "# Afficher une image d'entraînement originale et une image approximée aléatoire\n",
        "random_index = np.random.randint(0, len(train_data))\n",
        "fig, axs = plt.subplots(1, 2)\n",
        "axs[0].imshow(train_data[random_index])\n",
        "axs[0].set_title(\"Original\")\n",
        "axs[1].imshow(np.transpose(train_data_approx[random_index], (1, 2, 0)).astype(np.uint8))\n",
        "axs[1].set_title(\"Rank-\" + str(k) + \" Approximation\")\n",
        "plt.show()\n",
        "\n",
        "\n",
        "\n",
        "\n",
        "\n",
        "\n"
      ]
    },
    {
      "cell_type": "code",
      "source": [],
      "metadata": {
        "id": "2kX5ZIDLML68"
      },
      "execution_count": null,
      "outputs": []
    },
    {
      "cell_type": "code",
      "source": [],
      "metadata": {
        "id": "WleC8GroLxzQ"
      },
      "execution_count": null,
      "outputs": []
    },
    {
      "cell_type": "code",
      "source": [],
      "metadata": {
        "id": "c3RDTr8zLcQR"
      },
      "execution_count": null,
      "outputs": []
    },
    {
      "cell_type": "code",
      "source": [],
      "metadata": {
        "id": "X96Fcai8K3EJ"
      },
      "execution_count": null,
      "outputs": []
    },
    {
      "cell_type": "code",
      "source": [],
      "metadata": {
        "id": "gkSGeMW8Km5s"
      },
      "execution_count": null,
      "outputs": []
    },
    {
      "cell_type": "code",
      "source": [],
      "metadata": {
        "id": "bRU5LhhMKOJ0"
      },
      "execution_count": null,
      "outputs": []
    },
    {
      "cell_type": "code",
      "source": [],
      "metadata": {
        "id": "UZTL02QHJ2UU"
      },
      "execution_count": null,
      "outputs": []
    },
    {
      "cell_type": "code",
      "source": [],
      "metadata": {
        "id": "TcfY-xZWJdYx"
      },
      "execution_count": null,
      "outputs": []
    },
    {
      "cell_type": "code",
      "source": [],
      "metadata": {
        "id": "OC39t7sqIpaY"
      },
      "execution_count": null,
      "outputs": []
    },
    {
      "cell_type": "code",
      "source": [],
      "metadata": {
        "id": "v-XwAHShG5N3"
      },
      "execution_count": null,
      "outputs": []
    },
    {
      "cell_type": "code",
      "source": [],
      "metadata": {
        "id": "cFdHasYlFWsg"
      },
      "execution_count": null,
      "outputs": []
    },
    {
      "cell_type": "code",
      "source": [],
      "metadata": {
        "id": "1_csh20U_0Fv"
      },
      "execution_count": null,
      "outputs": []
    },
    {
      "cell_type": "code",
      "source": [],
      "metadata": {
        "id": "H0HB0kp4_clW"
      },
      "execution_count": null,
      "outputs": []
    },
    {
      "cell_type": "code",
      "source": [],
      "metadata": {
        "id": "Be_BrRcM-5pL"
      },
      "execution_count": null,
      "outputs": []
    },
    {
      "cell_type": "markdown",
      "source": [
        "# New section"
      ],
      "metadata": {
        "id": "L6niPbA2_Hpu"
      }
    }
  ]
}